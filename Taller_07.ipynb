{
  "cells": [
    {
      "cell_type": "markdown",
      "metadata": {
        "id": "view-in-github",
        "colab_type": "text"
      },
      "source": [
        "<a href=\"https://colab.research.google.com/github/Marianajar16/Talleresdealgoritmos/blob/main/Taller_07.ipynb\" target=\"_parent\"><img src=\"https://colab.research.google.com/assets/colab-badge.svg\" alt=\"Open In Colab\"/></a>"
      ]
    },
    {
      "cell_type": "markdown",
      "metadata": {
        "id": "xGiqRO9PpY2H"
      },
      "source": [
        "<h1 align=\"center\">\n",
        "Taller 07 - Operaciones con Listas\n",
        "</h1>"
      ]
    },
    {
      "cell_type": "code",
      "execution_count": 1,
      "metadata": {
        "colab": {
          "base_uri": "https://localhost:8080/"
        },
        "id": "sAj0u0Uto2i5",
        "outputId": "e31895ec-a79e-4be7-b404-5f6c8774ce7c",
        "vscode": {
          "languageId": "python"
        }
      },
      "outputs": [
        {
          "output_type": "stream",
          "name": "stdout",
          "text": [
            "Cantidad de municipios 1122\n"
          ]
        }
      ],
      "source": [
        "# Preparación de los datos para los ejercicios\n",
        "import pandas as pd\n",
        "url = 'https://raw.githubusercontent.com/Marianajar16/Talleresdealgoritmos/main/Taller%20Pandas/municipios.csv'\n",
        "df = pd.read_csv(url)\n",
        "municipios = []\n",
        "\n",
        "for (_, m) in df.iterrows():\n",
        "    mun = (m[0], m[1], m[2], m[3], m[4], False if m[5] == 0 else True)\n",
        "    municipios.append(mun)\n",
        "print('Cantidad de municipios', len(municipios))"
      ]
    },
    {
      "cell_type": "markdown",
      "metadata": {
        "id": "vOOIp3R-wJK2"
      },
      "source": [
        "## La información de los municipios\n",
        "\n",
        "Tenemos la información de todos los municipios de colombia en una lista de tuplas con la siguiente conformación:\n",
        "\n",
        "* El primer elemento es el código del municipio, un número\n",
        "* El segundo elemento es el nombre del municipio\n",
        "* El tercer elemento es la población urbana del municipio\n",
        "* El cuarto elemento es la población rural del municipio\n",
        "* El quinto elemento es el nombre del departamento donde esta el municipio\n",
        "* El sexto elemento es **True** si el municipio es la capital del departamento y **False** si no se trata de la capital del departamento."
      ]
    },
    {
      "cell_type": "markdown",
      "metadata": {
        "id": "MVX5wO8sw-Gh"
      },
      "source": [
        "---\n",
        "\n",
        "## Ejercicio 01\n",
        "\n",
        "Escriba una función que reciba la lista de municipios como dato de entrada, así como el nombre de un departamento y que retorne cuántos municipios de la lista pertenecen a ese departamento."
      ]
    },
    {
      "cell_type": "code",
      "execution_count": 6,
      "metadata": {
        "colab": {
          "base_uri": "https://localhost:8080/"
        },
        "id": "PEmVsxmzuM38",
        "outputId": "855d5346-b564-4369-aacc-af81ca3ef3c4",
        "vscode": {
          "languageId": "python"
        }
      },
      "outputs": [
        {
          "output_type": "stream",
          "name": "stdout",
          "text": [
            "Prueba superada 😎\n"
          ]
        }
      ],
      "source": [
        "def ejercicio01(muns: [(int, str, int, int, str, bool)], nomdepto: str) -> int:\n",
        "     c = 0\n",
        "     for i,m,u,r,d,x in muns:\n",
        "        if nomdepto==d:\n",
        "            c=c+1\n",
        "     return c\n",
        "# ----------------------------------------------------------------------------\n",
        "# Pruebas\n",
        "assert ejercicio01(municipios, 'Amazonas') == 11\n",
        "assert ejercicio01(municipios, 'Boyacá') == 123\n",
        "print('Prueba superada 😎')"
      ]
    },
    {
      "cell_type": "markdown",
      "metadata": {
        "id": "5WNqTarK-J6r"
      },
      "source": [
        "## Ejercicio 02\n",
        "\n",
        "Dada una lista con los municipio de Colombia, retorne una lista con los nombres de los municipios que no tienen población urbana."
      ]
    },
    {
      "cell_type": "code",
      "execution_count": 7,
      "metadata": {
        "colab": {
          "base_uri": "https://localhost:8080/"
        },
        "id": "SGmVOQATxz82",
        "outputId": "6b901b5f-b245-4a64-a59b-5a44b0b215e6",
        "vscode": {
          "languageId": "python"
        }
      },
      "outputs": [
        {
          "output_type": "stream",
          "name": "stdout",
          "text": [
            "Prueba superada 👍\n"
          ]
        }
      ],
      "source": [
        "def ejercicio02(municipios: [(int, str, int, int, str, bool)]) -> [str]:\n",
        "     resultado = []\n",
        "     for i,m,u,r,d,x in municipios:\n",
        "        if u==0:\n",
        "            resultado.append(m)\n",
        "     return resultado\n",
        "\n",
        "# Prueba del ejercicio 02\n",
        "noms = ejercicio02(municipios)\n",
        "noms.sort()\n",
        "assert noms == ['Barranco Minas', 'Cacahual', 'El Encanto', 'La Chorrera', 'La Guadalupe', 'La Pedrera', 'La Victoria', 'Mapiripana', 'Mirití-Paraná', 'Morichal Nuevo', 'Pacoa', 'Pana Pana', 'Papunaua', 'Puerto Alegría', 'Puerto Arica', 'Puerto Colombia', 'Puerto Santander', 'San Felipe', 'Tarapacá', 'Yavaraté']\n",
        "print(\"Prueba superada 👍\")"
      ]
    },
    {
      "cell_type": "markdown",
      "metadata": {
        "id": "Iop_-nwpAKHP"
      },
      "source": [
        "## Ejercicio 03\n",
        "\n",
        "Escriba una función en Python que reciba la lista con la información de todos los municipios de Colombia, y el nombre de un departamento, y que retorne la suma de la población urbana de todos los municipios de ese departamento, así como la cantidad de municipios que pertenecen a ese departamento también."
      ]
    },
    {
      "cell_type": "code",
      "execution_count": 8,
      "metadata": {
        "colab": {
          "base_uri": "https://localhost:8080/"
        },
        "id": "n4lYS5hR_eAd",
        "outputId": "da7debad-3ea8-4668-f73f-a5e710b172ac",
        "vscode": {
          "languageId": "python"
        }
      },
      "outputs": [
        {
          "output_type": "stream",
          "name": "stdout",
          "text": [
            "Prueba superada 👍\n"
          ]
        }
      ],
      "source": [
        "def ejercicio03(municipios: [(int, str, int, int, str, bool)], dpto: str) -> (int, int):\n",
        "      suma = 0\n",
        "      cont = 0\n",
        "      for i,m,u,r,d,x in municipios:\n",
        "        if dpto==d:\n",
        "            suma=suma+u\n",
        "            cont=cont+1\n",
        "      return (suma, cont)\n",
        "\n",
        "# Prueba de la función 03\n",
        "assert ejercicio03(municipios, \"La Guajira\") == (552_638, 15)\n",
        "assert ejercicio03(municipios, \"Huila\") == (703_936, 37)\n",
        "assert ejercicio03(municipios, \"Atlántico\") == (2_408_093, 23)\n",
        "assert ejercicio03(municipios, \"Antioquia\") == (5_181_668, 125)\n",
        "print(\"Prueba superada 👍\")"
      ]
    },
    {
      "cell_type": "markdown",
      "metadata": {
        "id": "qw57ZixBCtmg"
      },
      "source": [
        "## Ejercicio 04\n",
        "\n",
        "Escriba una función que reciba la lista con la información de todos los municipios del país y el código de un municipio y que retorne el nombre y el departamento del municipio que tiene ese código. Si no existe ese código, deberá retornar el mensaje \"no existe\"."
      ]
    },
    {
      "cell_type": "code",
      "execution_count": 9,
      "metadata": {
        "colab": {
          "base_uri": "https://localhost:8080/"
        },
        "id": "KQlwWG7LBgQs",
        "outputId": "da5c87d2-a812-42b0-824e-bbf16500016f",
        "vscode": {
          "languageId": "python"
        }
      },
      "outputs": [
        {
          "output_type": "stream",
          "name": "stdout",
          "text": [
            "Prueba superada 👍\n"
          ]
        }
      ],
      "source": [
        "def ejercicio04(municipios: [(int, str, int, int, str, bool)], codigo: int) -> (str, str):\n",
        "    for i,m,u,r,d,x in municipios:\n",
        "        if codigo==i:\n",
        "            return (m, d)\n",
        "    return \"no existe\"\n",
        "\n",
        "\n",
        "# Prueba de la función ejercicio 04\n",
        "assert (ejercicio04(municipios, 438)) == ('Caloto', 'Cauca')\n",
        "assert (ejercicio04(municipios, 7)) == ('Soledad', 'Atlántico')\n",
        "assert (ejercicio04(municipios, 1024)) == ('Alejandría', 'Antioquia')\n",
        "assert (ejercicio04(municipios, 819)) == ('Barichara', 'Santander')\n",
        "assert (ejercicio04(municipios, 1819)) == 'no existe'\n",
        "print(\"Prueba superada 👍\")"
      ]
    },
    {
      "cell_type": "markdown",
      "metadata": {
        "id": "k-SLqWpdF1ie"
      },
      "source": [
        "## Ejercicio 05\n",
        "\n",
        "Escriba una función en Python que reciba una lista con la información de todos los municipios de Colombia y que halle el porcentaje de municipios de la lista que son capitales y cuya población urbana supera el millón de habitantes."
      ]
    },
    {
      "cell_type": "code",
      "execution_count": 10,
      "metadata": {
        "colab": {
          "base_uri": "https://localhost:8080/"
        },
        "id": "5__V2S7ZE_vl",
        "outputId": "2e122803-8bb1-43f9-cbf5-e620e4dddfb3",
        "vscode": {
          "languageId": "python"
        }
      },
      "outputs": [
        {
          "output_type": "stream",
          "name": "stdout",
          "text": [
            "Prueba superada 👍\n"
          ]
        }
      ],
      "source": [
        "import math\n",
        "\n",
        "def ejercicio05(municipios: [(int, str, int, int, str, bool)]) -> float:\n",
        "    pass\n",
        "    c=0\n",
        "    for i,m,u,r,d,x in municipios:\n",
        "        if u>1000000 and x==True:\n",
        "            c=c+1\n",
        "    promedio=(c/len(municipios))*100\n",
        "    return promedio\n",
        "# Prueba de la función del ejercicio 5\n",
        "assert math.isclose(ejercicio05(municipios), 0.3565, rel_tol=1e-4)\n",
        "print(\"Prueba superada 👍\")"
      ]
    },
    {
      "cell_type": "markdown",
      "metadata": {
        "id": "3PWcaddGM61l"
      },
      "source": [
        "## Ejercicio 06\n",
        "\n",
        "Escriba una función que reciba la lista con la información de todos los municipios de Colombia y el nombre de un departamento, y que retorne el nombre del municipio de ese departamento que tiene la población urbana más pequeña."
      ]
    },
    {
      "cell_type": "code",
      "execution_count": 11,
      "metadata": {
        "colab": {
          "base_uri": "https://localhost:8080/"
        },
        "id": "8qAQ2SVlL-Rl",
        "outputId": "b789bcfe-81cf-4cb6-f2bd-ab5f59bc3631",
        "vscode": {
          "languageId": "python"
        }
      },
      "outputs": [
        {
          "output_type": "stream",
          "name": "stdout",
          "text": [
            "Prueba superada 👍\n"
          ]
        }
      ],
      "source": [
        "def ejercicio06(municipios: [(int, str, int, int, str, bool)], dpto: str) -> str:\n",
        "    pass\n",
        "    pmax=0\n",
        "    pmin=0\n",
        "    nmin=\"\"\n",
        "    for i,m,u,r,d,x in municipios:\n",
        "        if u>pmax:\n",
        "            pmax=u\n",
        "    pmin=pmax\n",
        "    for i,m,u,r,d,x in municipios:\n",
        "        if dpto==d and u<pmin:\n",
        "            pmin=u\n",
        "            nmin=m\n",
        "    return nmin\n",
        "\n",
        "# Prueba de la función del ejercicio 06\n",
        "assert (ejercicio06(municipios, 'Santander'))  == 'Jordán'\n",
        "assert (ejercicio06(municipios, 'Boyacá')) == 'Chíquiza'\n",
        "assert (ejercicio06(municipios, 'Magdalena')) == 'San Zenón'\n",
        "assert (ejercicio06(municipios, 'Cundinamarca')) == 'Fúquene'\n",
        "print(\"Prueba superada 👍\")"
      ]
    },
    {
      "cell_type": "markdown",
      "metadata": {
        "id": "-7qiTQ1NPclk"
      },
      "source": [
        "## Ejercicio 07\n",
        "\n",
        "Escriba una función en Python que reciba una lista con la información de todos los municipios de Colombia y dos códigos, y que retorne la suma de la población rural de aquellos municipios cuyo código sea mayor o igual que el primer código y menor o igual que el segundo código."
      ]
    },
    {
      "cell_type": "code",
      "execution_count": 12,
      "metadata": {
        "colab": {
          "base_uri": "https://localhost:8080/"
        },
        "id": "lr2UwOmvOBiT",
        "outputId": "d348ecba-dc14-4380-99cc-f1ec608aa256",
        "vscode": {
          "languageId": "python"
        }
      },
      "outputs": [
        {
          "output_type": "stream",
          "name": "stdout",
          "text": [
            "Prueba superada 👍\n"
          ]
        }
      ],
      "source": [
        "def ejercicio07(municipios: [(int, str, int, int, str, bool)], cod1: int, cod2: int) -> int:\n",
        "    suma = 0\n",
        "    for i,m,u,r,d,x in municipios:\n",
        "        if i>=cod1 and i<=cod2:\n",
        "            suma=r+suma\n",
        "    return suma\n",
        "\n",
        "# Prueba de la función del ejercicio 07\n",
        "assert (ejercicio07(municipios, 850, 960)) == 416_362\n",
        "assert (ejercicio07(municipios, 1, 10)) == 193_550\n",
        "assert (ejercicio07(municipios, 300, 400)) == 1_217_094\n",
        "print(\"Prueba superada 👍\")"
      ]
    }
  ],
  "metadata": {
    "colab": {
      "collapsed_sections": [],
      "provenance": [],
      "include_colab_link": true
    },
    "kernelspec": {
      "display_name": "Python 3",
      "name": "python3"
    }
  },
  "nbformat": 4,
  "nbformat_minor": 0
}